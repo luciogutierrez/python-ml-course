{
 "cells": [
  {
   "cell_type": "markdown",
   "source": [
    "# Modelos de regresión líneal\r\n",
    "\r\n",
    "## Modelo con datos simulados\r\n",
    "\r\n",
    "### y = a + b * x\r\n",
    "### X : 100 valores distribuidos segun una N(1.5, 2.5) Normal\r\n",
    "### Ye =  5 + 1.9 * x + e (Y estimada)\r\n",
    "### e : estará distribuida según una N(0. 0.8) \"una Normal de 'media' 0 y desviación estandar de 0.8\""
   ],
   "metadata": {}
  },
  {
   "cell_type": "code",
   "execution_count": 1,
   "source": [
    "import numpy as np\r\n",
    "import pandas as pd"
   ],
   "outputs": [],
   "metadata": {}
  },
  {
   "cell_type": "code",
   "execution_count": 2,
   "source": [
    "x = 1.5 + 2.5 * np.random.randn(100)"
   ],
   "outputs": [],
   "metadata": {}
  },
  {
   "cell_type": "code",
   "execution_count": 3,
   "source": [
    "res = 0 + 0.8 * np.random.randn(100)"
   ],
   "outputs": [],
   "metadata": {}
  },
  {
   "cell_type": "code",
   "execution_count": 6,
   "source": [
    "y_pred = 5 + 1.9 * x"
   ],
   "outputs": [],
   "metadata": {}
  },
  {
   "cell_type": "code",
   "execution_count": 8,
   "source": [
    "y_act = 5 + 1.9 * x + res"
   ],
   "outputs": [],
   "metadata": {}
  },
  {
   "cell_type": "code",
   "execution_count": 9,
   "source": [
    "x_list = x.tolist()\r\n",
    "y_pred_list = y_pred.tolist()\r\n",
    "y_act_list = y_act.tolist()"
   ],
   "outputs": [],
   "metadata": {}
  },
  {
   "cell_type": "code",
   "execution_count": 10,
   "source": [
    "data = pd.DataFrame(\r\n",
    "    {\r\n",
    "        'x' : x_list,\r\n",
    "        'y_actual' : y_act_list,\r\n",
    "        'y_prediccion' : y_pred_list\r\n",
    "    }\r\n",
    ")"
   ],
   "outputs": [],
   "metadata": {}
  },
  {
   "cell_type": "code",
   "execution_count": 11,
   "source": [
    "data.head()"
   ],
   "outputs": [
    {
     "output_type": "execute_result",
     "data": {
      "text/plain": [
       "          x   y_actual  y_prediccion\n",
       "0 -2.135893   1.184665      0.941803\n",
       "1  2.384532  10.237383      9.530610\n",
       "2 -0.631919   5.522233      3.799353\n",
       "3  2.943267  10.610181     10.592206\n",
       "4 -5.115750  -4.107711     -4.719925"
      ],
      "text/html": [
       "<div>\n",
       "<style scoped>\n",
       "    .dataframe tbody tr th:only-of-type {\n",
       "        vertical-align: middle;\n",
       "    }\n",
       "\n",
       "    .dataframe tbody tr th {\n",
       "        vertical-align: top;\n",
       "    }\n",
       "\n",
       "    .dataframe thead th {\n",
       "        text-align: right;\n",
       "    }\n",
       "</style>\n",
       "<table border=\"1\" class=\"dataframe\">\n",
       "  <thead>\n",
       "    <tr style=\"text-align: right;\">\n",
       "      <th></th>\n",
       "      <th>x</th>\n",
       "      <th>y_actual</th>\n",
       "      <th>y_prediccion</th>\n",
       "    </tr>\n",
       "  </thead>\n",
       "  <tbody>\n",
       "    <tr>\n",
       "      <th>0</th>\n",
       "      <td>-2.135893</td>\n",
       "      <td>1.184665</td>\n",
       "      <td>0.941803</td>\n",
       "    </tr>\n",
       "    <tr>\n",
       "      <th>1</th>\n",
       "      <td>2.384532</td>\n",
       "      <td>10.237383</td>\n",
       "      <td>9.530610</td>\n",
       "    </tr>\n",
       "    <tr>\n",
       "      <th>2</th>\n",
       "      <td>-0.631919</td>\n",
       "      <td>5.522233</td>\n",
       "      <td>3.799353</td>\n",
       "    </tr>\n",
       "    <tr>\n",
       "      <th>3</th>\n",
       "      <td>2.943267</td>\n",
       "      <td>10.610181</td>\n",
       "      <td>10.592206</td>\n",
       "    </tr>\n",
       "    <tr>\n",
       "      <th>4</th>\n",
       "      <td>-5.115750</td>\n",
       "      <td>-4.107711</td>\n",
       "      <td>-4.719925</td>\n",
       "    </tr>\n",
       "  </tbody>\n",
       "</table>\n",
       "</div>"
      ]
     },
     "metadata": {},
     "execution_count": 11
    }
   ],
   "metadata": {}
  },
  {
   "cell_type": "code",
   "execution_count": 12,
   "source": [
    "import matplotlib.pyplot as plt"
   ],
   "outputs": [],
   "metadata": {}
  },
  {
   "cell_type": "code",
   "execution_count": 14,
   "source": [
    "y_mean = [np.mean(y_act) for i in range(1, len(x_list)+1)]"
   ],
   "outputs": [],
   "metadata": {}
  },
  {
   "cell_type": "code",
   "execution_count": 15,
   "source": [
    "plt.plot(x, y_pred)\r\n",
    "plt.plot(x, y_act, 'ro')\r\n",
    "plt.plot(x, y_mean, 'g')\r\n",
    "plt.title('Valor Actual vs Predicción')"
   ],
   "outputs": [
    {
     "output_type": "execute_result",
     "data": {
      "text/plain": [
       "Text(0.5, 1.0, 'Valor Actual vs Predicción')"
      ]
     },
     "metadata": {},
     "execution_count": 15
    },
    {
     "output_type": "display_data",
     "data": {
      "text/plain": [
       "<Figure size 432x288 with 1 Axes>"
      ],
      "image/png": "[encoded data removed]"
     },
     "metadata": {
      "needs_background": "light"
     }
    }
   ],
   "metadata": {}
  },
  {
   "cell_type": "code",
   "execution_count": 18,
   "source": [
    "data['SSR'] = (data['y_prediccion']-np.mean(y_act))**2 \r\n",
    "data['SSD'] = (data['y_prediccion']-data['y_actual'])**2 \r\n",
    "data['SST'] = (data['y_actual']-np.mean(y_act))**2 \r\n",
    "data.head()"
   ],
   "outputs": [
    {
     "output_type": "execute_result",
     "data": {
      "text/plain": [
       "          x   y_actual  y_prediccion         SSR       SSD         SST\n",
       "0 -2.135893   1.184665      0.941803   53.626763  0.058982   50.128767\n",
       "1  2.384532  10.237383      9.530610    1.602193  0.499529    3.890957\n",
       "2 -0.631919   5.522233      3.799353   19.940503  2.968314    7.521852\n",
       "3  2.943267  10.610181     10.592206    5.416670  0.000323    5.500661\n",
       "4 -5.115750  -4.107711     -4.719925  168.603923  0.374806  153.079834"
      ],
      "text/html": [
       "<div>\n",
       "<style scoped>\n",
       "    .dataframe tbody tr th:only-of-type {\n",
       "        vertical-align: middle;\n",
       "    }\n",
       "\n",
       "    .dataframe tbody tr th {\n",
       "        vertical-align: top;\n",
       "    }\n",
       "\n",
       "    .dataframe thead th {\n",
       "        text-align: right;\n",
       "    }\n",
       "</style>\n",
       "<table border=\"1\" class=\"dataframe\">\n",
       "  <thead>\n",
       "    <tr style=\"text-align: right;\">\n",
       "      <th></th>\n",
       "      <th>x</th>\n",
       "      <th>y_actual</th>\n",
       "      <th>y_prediccion</th>\n",
       "      <th>SSR</th>\n",
       "      <th>SSD</th>\n",
       "      <th>SST</th>\n",
       "    </tr>\n",
       "  </thead>\n",
       "  <tbody>\n",
       "    <tr>\n",
       "      <th>0</th>\n",
       "      <td>-2.135893</td>\n",
       "      <td>1.184665</td>\n",
       "      <td>0.941803</td>\n",
       "      <td>53.626763</td>\n",
       "      <td>0.058982</td>\n",
       "      <td>50.128767</td>\n",
       "    </tr>\n",
       "    <tr>\n",
       "      <th>1</th>\n",
       "      <td>2.384532</td>\n",
       "      <td>10.237383</td>\n",
       "      <td>9.530610</td>\n",
       "      <td>1.602193</td>\n",
       "      <td>0.499529</td>\n",
       "      <td>3.890957</td>\n",
       "    </tr>\n",
       "    <tr>\n",
       "      <th>2</th>\n",
       "      <td>-0.631919</td>\n",
       "      <td>5.522233</td>\n",
       "      <td>3.799353</td>\n",
       "      <td>19.940503</td>\n",
       "      <td>2.968314</td>\n",
       "      <td>7.521852</td>\n",
       "    </tr>\n",
       "    <tr>\n",
       "      <th>3</th>\n",
       "      <td>2.943267</td>\n",
       "      <td>10.610181</td>\n",
       "      <td>10.592206</td>\n",
       "      <td>5.416670</td>\n",
       "      <td>0.000323</td>\n",
       "      <td>5.500661</td>\n",
       "    </tr>\n",
       "    <tr>\n",
       "      <th>4</th>\n",
       "      <td>-5.115750</td>\n",
       "      <td>-4.107711</td>\n",
       "      <td>-4.719925</td>\n",
       "      <td>168.603923</td>\n",
       "      <td>0.374806</td>\n",
       "      <td>153.079834</td>\n",
       "    </tr>\n",
       "  </tbody>\n",
       "</table>\n",
       "</div>"
      ]
     },
     "metadata": {},
     "execution_count": 18
    }
   ],
   "metadata": {}
  },
  {
   "cell_type": "code",
   "execution_count": 20,
   "source": [
    "SSR = sum(data['SSR'])\r\n",
    "SSD = sum(data['SSD'])\r\n",
    "SST = sum(data['SST'])\r\n",
    "print(SSR)\r\n",
    "print(SSD)\r\n",
    "print(SST)"
   ],
   "outputs": [
    {
     "output_type": "stream",
     "name": "stdout",
     "text": [
      "1713.174572033896\n",
      "52.69488885742273\n",
      "1742.3145994475794\n"
     ]
    }
   ],
   "metadata": {}
  },
  {
   "cell_type": "code",
   "execution_count": 21,
   "source": [
    "R2 = SSR / SST\r\n",
    "R2"
   ],
   "outputs": [
    {
     "output_type": "execute_result",
     "data": {
      "text/plain": [
       "0.9832751057570644"
      ]
     },
     "metadata": {},
     "execution_count": 21
    }
   ],
   "metadata": {}
  },
  {
   "cell_type": "code",
   "execution_count": 22,
   "source": [
    "plt.hist(data['y_prediccion']-data['y_actual'])"
   ],
   "outputs": [
    {
     "output_type": "execute_result",
     "data": {
      "text/plain": [
       "(array([ 5.,  5., 18., 15., 25., 17.,  7.,  5.,  2.,  1.]),\n",
       " array([-1.72287962, -1.34279701, -0.9627144 , -0.58263179, -0.20254918,\n",
       "         0.17753343,  0.55761604,  0.93769865,  1.31778126,  1.69786387,\n",
       "         2.07794648]),\n",
       " <BarContainer object of 10 artists>)"
      ]
     },
     "metadata": {},
     "execution_count": 22
    },
    {
     "output_type": "display_data",
     "data": {
      "text/plain": [
       "<Figure size 432x288 with 1 Axes>"
      ],
      "image/png": "[encoded data removed]"
     },
     "metadata": {
      "needs_background": "light"
     }
    }
   ],
   "metadata": {}
  },
  {
   "cell_type": "code",
   "execution_count": null,
   "source": [],
   "outputs": [],
   "metadata": {}
  }
 ],
 "metadata": {
  "orig_nbformat": 4,
  "language_info": {
   "name": "python",
   "version": "3.9.6",
   "mimetype": "text/x-python",
   "codemirror_mode": {
    "name": "ipython",
    "version": 3
   },
   "pygments_lexer": "ipython3",
   "nbconvert_exporter": "python",
   "file_extension": ".py"
  },
  "kernelspec": {
   "name": "python3",
   "display_name": "Python 3.9.6 64-bit"
  },
  "interpreter": {
   "hash": "376f5b0795f81aa7b5d99e448d6274743a66c9892fd26cf11e505993f41df5fa"
  }
 },
 "nbformat": 4,
 "nbformat_minor": 2
}